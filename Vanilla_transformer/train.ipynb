{
 "cells": [
  {
   "cell_type": "code",
   "id": "initial_id",
   "metadata": {
    "collapsed": true,
    "ExecuteTime": {
     "end_time": "2024-12-08T15:42:36.864123Z",
     "start_time": "2024-12-08T15:42:36.811023Z"
    }
   },
   "source": [
    "import torch\n",
    "from Transformer import GPT, GPTConfig\n",
    "from tqdm import tqdm\n",
    "from  data_provider import dataloader_train, dataloader_valid\n",
    "import pandas as pd\n",
    "import numpy as np\n"
   ],
   "outputs": [],
   "execution_count": 15
  },
  {
   "metadata": {
    "ExecuteTime": {
     "end_time": "2024-12-08T15:42:38.199281Z",
     "start_time": "2024-12-08T15:42:37.019187Z"
    }
   },
   "cell_type": "code",
   "source": [
    "from torch.optim.lr_scheduler import StepLR\n",
    "\n",
    "# Define model, optimizer, and scheduler\n",
    "model = GPT(GPTConfig)\n",
    "learning_rate = 2e-8\n",
    "num_epochs = 10\n",
    "optimizer = torch.optim.Adam(model.parameters(), lr=learning_rate)\n",
    "scheduler = StepLR(optimizer, step_size=3, gamma=0.1)  # Decays LR by 0.1 every 3 epochs"
   ],
   "id": "fe5684bd8d919e94",
   "outputs": [],
   "execution_count": 16
  },
  {
   "metadata": {
    "jupyter": {
     "is_executing": true
    },
    "ExecuteTime": {
     "start_time": "2024-12-08T15:42:38.200492Z"
    }
   },
   "cell_type": "code",
   "source": [
    "device = torch.device('cuda' if torch.cuda.is_available() else 'cpu')\n",
    "model = model.to(device)\n",
    "\n",
    "model.train()\n",
    "loss_fn = torch.nn.MSELoss()\n",
    "\n",
    "# Training loop\n",
    "for epoch in tqdm(range(num_epochs)):\n",
    "    train_losses = []\n",
    "    for batch_idx, (X, y) in enumerate(dataloader_train):  # [window_size, n_features]\n",
    "        X = X.to(device, dtype=torch.float)\n",
    "        y = y.to(device, dtype=torch.double)\n",
    "        out = model(X.to(torch.float)).squeeze()\n",
    "        y = y.to(torch.double)\n",
    "        out = out.to(torch.double)\n",
    "        loss = loss_fn(out, y)\n",
    "        optimizer.zero_grad()\n",
    "        loss.backward()\n",
    "        optimizer.step()\n",
    "        train_losses.append(loss.data.cpu())\n",
    "\n",
    "    # Update learning rate using the scheduler\n",
    "    scheduler.step()\n",
    "\n",
    "    print('Epoch %d: Current mean loss = %.4f, Learning Rate = %.2e' % \n",
    "          (epoch, np.mean(train_losses, axis=0), scheduler.get_last_lr()[0]))\n",
    "    \n",
    "torch.save(model.state_dict(), \"model_state.pth\")\n",
    "print('Finished Training and Model Saved to model_state.pth')\n"
   ],
   "id": "6804328b25cabd62",
   "outputs": [
    {
     "name": "stderr",
     "output_type": "stream",
     "text": [
      "  0%|          | 0/10 [00:00<?, ?it/s]"
     ]
    }
   ],
   "execution_count": null
  },
  {
   "metadata": {},
   "cell_type": "code",
   "outputs": [],
   "execution_count": null,
   "source": "",
   "id": "7f72a5cf5bc6fcdc"
  }
 ],
 "metadata": {
  "kernelspec": {
   "display_name": "Python 3",
   "language": "python",
   "name": "python3"
  },
  "language_info": {
   "codemirror_mode": {
    "name": "ipython",
    "version": 2
   },
   "file_extension": ".py",
   "mimetype": "text/x-python",
   "name": "python",
   "nbconvert_exporter": "python",
   "pygments_lexer": "ipython2",
   "version": "2.7.6"
  }
 },
 "nbformat": 4,
 "nbformat_minor": 5
}
