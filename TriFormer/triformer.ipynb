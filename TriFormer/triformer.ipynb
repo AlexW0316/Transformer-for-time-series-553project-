{
 "cells": [
  {
   "cell_type": "markdown",
   "metadata": {},
   "source": [
    "# TriFormer Architecture"
   ]
  },
  {
   "cell_type": "code",
   "execution_count": 8,
   "metadata": {},
   "outputs": [],
   "source": [
    "import math\n",
    "\n",
    "import torch\n",
    "import torch.nn as nn\n",
    "from torch.nn import init\n",
    "import matplotlib.pyplot as plt\n",
    "import numpy as np\n",
    "import pandas as pd\n",
    "import sklearn.preprocessing\n",
    "from torch.utils.data import Dataset, DataLoader\n",
    "import kagglehub\n",
    "import os\n",
    "import wandb\n",
    "import torch.optim as optim"
   ]
  },
  {
   "cell_type": "code",
   "execution_count": 17,
   "metadata": {},
   "outputs": [],
   "source": [
    "class Triformer(nn.Module):\n",
    "    def __init__(self, device, num_nodes, input_dim, output_dim, channels, dynamic, lag,\n",
    "                 horizon, patch_sizes, supports, mem_dim):\n",
    "        super(Triformer, self).__init__()\n",
    "        self.factorized = True\n",
    "        print('Predicting {} steps ahead'.format(horizon))\n",
    "        self.num_nodes = num_nodes\n",
    "        self.output_dim = output_dim # output dimension\n",
    "        self.channels = channels\n",
    "        self.dynamic = dynamic\n",
    "        self.start_fc = nn.Linear(in_features=input_dim, out_features=self.channels) # embedding\n",
    "        self.layers = nn.ModuleList()\n",
    "        self.skip_generators = nn.ModuleList()\n",
    "        self.horizon = horizon # length of predicted window\n",
    "        self.supports = supports \n",
    "        self.lag = lag #length of input sequence\n",
    "\n",
    "        cuts = lag\n",
    "        for patch_size in patch_sizes:\n",
    "            if cuts % patch_size != 0:\n",
    "                raise Exception('Lag not divisible by patch size')\n",
    "\n",
    "            cuts = int(cuts / patch_size)\n",
    "            self.layers.append(Layer(device=device, input_dim=channels,\n",
    "                                     dynamic=dynamic, num_nodes=num_nodes, cuts=cuts,\n",
    "                                     cut_size=patch_size, factorized=self.factorized))\n",
    "            # Generate weights and biases for skip connections\n",
    "            self.skip_generators.append(WeightGenerator(in_dim=cuts * channels, out_dim=256, number_of_weights=1,\n",
    "                                                        mem_dim=mem_dim, num_nodes=num_nodes, factorized=False))\n",
    "\n",
    "        self.custom_linear = CustomLinear(factorized=False)\n",
    "        self.projections = nn.Sequential(*[\n",
    "            nn.Linear(256, 512),\n",
    "            nn.ReLU(),\n",
    "            nn.Linear(512, horizon)])\n",
    "        self.notprinted = True\n",
    "\n",
    "    def forward(self, batch_x, batch_x_mark, dec_inp, batch_y_mark):\n",
    "        # Only prints out the first input dimension\n",
    "        if self.notprinted:\n",
    "            self.notprinted = False\n",
    "            print(batch_x.shape)\n",
    "        # Initial embedding\n",
    "        x = self.start_fc(batch_x)\n",
    "        batch_size = x.size(0)\n",
    "        skip = 0\n",
    "\n",
    "        for layer, skip_generator in zip(self.layers, self.skip_generators):\n",
    "            x = layer(x)\n",
    "            weights, biases = skip_generator()\n",
    "            # reshape gives [32, 1, 1, 48 * 16], aggregating info from patches\n",
    "            skip_inp = x.transpose(2, 1).reshape(batch_size, 1, self.num_nodes, -1)\n",
    "            # Add skip connection to the original input\n",
    "            skip = skip + self.custom_linear(skip_inp, weights[-1], biases[-1])\n",
    "\n",
    "        x = torch.relu(skip).squeeze(1)\n",
    "        # Output dim [32, 7, 1]\n",
    "        return self.projections(x).transpose(2, 1)\n",
    "\n",
    "\n",
    "class Layer(nn.Module):\n",
    "    def __init__(self, device, input_dim, num_nodes, cuts, cut_size, dynamic, factorized):\n",
    "        super(Layer, self).__init__()\n",
    "        self.device = device\n",
    "        self.input_dim = input_dim\n",
    "        self.num_nodes = num_nodes\n",
    "        self.dynamic = dynamic\n",
    "        self.cuts = cuts\n",
    "        self.cut_size = cut_size\n",
    "        # Analogous to positional embedding\n",
    "        self.temporal_embeddings = nn.Parameter(torch.rand(cuts, 1, 1, self.num_nodes, 5).to(device),\n",
    "                                                requires_grad=True).to(device)\n",
    "\n",
    "        self.embeddings_generator = nn.ModuleList([nn.Sequential(*[\n",
    "            nn.Linear(5, input_dim)]) for _ in range(cuts)])\n",
    "        # Equation (4) function g\n",
    "        self.out_net1 = nn.Sequential(*[\n",
    "            nn.Linear(input_dim, input_dim ** 2),\n",
    "            nn.Tanh(),\n",
    "            nn.Linear(input_dim ** 2, input_dim),\n",
    "            nn.Tanh(),\n",
    "        ])\n",
    "        # Equation (4) function sigma\n",
    "        self.out_net2 = nn.Sequential(*[\n",
    "            nn.Linear(input_dim, input_dim ** 2),\n",
    "            nn.Tanh(),\n",
    "            nn.Linear(input_dim ** 2, input_dim),\n",
    "            nn.Sigmoid(),\n",
    "        ])\n",
    "\n",
    "        self.temporal_att = TemporalAttention(input_dim, factorized=factorized)\n",
    "        self.weights_generator_distinct = WeightGenerator(input_dim, input_dim, mem_dim=5, num_nodes=num_nodes,\n",
    "                                                          factorized=factorized, number_of_weights=2)\n",
    "        self.weights_generator_shared = WeightGenerator(input_dim, input_dim, mem_dim=None, num_nodes=num_nodes,\n",
    "                                                        factorized=False, number_of_weights=2)\n",
    "        self.dropout = nn.Dropout(0.5)\n",
    "\n",
    "    def forward(self, x):\n",
    "        # x shape: B T N C\n",
    "        batch_size = x.size(0)\n",
    "\n",
    "        data_concat = None\n",
    "        out = 0\n",
    "\n",
    "        weights_shared, biases_shared = self.weights_generator_shared()\n",
    "        weights_distinct, biases_distinct = self.weights_generator_distinct()\n",
    "\n",
    "        for i in range(self.cuts):\n",
    "            # shape is (B, cut_size, N, C)\n",
    "            t = x[:, i * self.cut_size:(i + 1) * self.cut_size, :, :]\n",
    "\n",
    "            if i != 0:\n",
    "                # Gating in equation (4)\n",
    "                out = self.out_net1(out) * self.out_net2(out)\n",
    "            # [48, 1, 1, 1, 5] -> [32, 48, 2, 1, 16] using first patch size and batch size 32 as an example\n",
    "            # Add positional information of current state to the previous patches (only for 1 patch)\n",
    "            emb = self.embeddings_generator[i](self.temporal_embeddings[i]).repeat(batch_size, 1, 1, 1) + out\n",
    "            t = torch.cat([emb, t], dim=1)\n",
    "            # Define tmporal attention layer\n",
    "            out = self.temporal_att(t[:, :1, :, :], t, t, weights_distinct, biases_distinct, weights_shared,\n",
    "                                    biases_shared)\n",
    "\n",
    "            if data_concat == None:\n",
    "                data_concat = out\n",
    "            else:\n",
    "                data_concat = torch.cat([data_concat, out], dim=1)\n",
    "\n",
    "        return self.dropout(data_concat)\n",
    "\n",
    "\n",
    "class CustomLinear(nn.Module):\n",
    "    def __init__(self, factorized):\n",
    "        super(CustomLinear, self).__init__()\n",
    "        self.factorized = factorized\n",
    "\n",
    "    def forward(self, input, weights, biases):\n",
    "        if self.factorized:\n",
    "            return torch.matmul(input.unsqueeze(3), weights).squeeze(3) + biases\n",
    "        else:\n",
    "            return torch.matmul(input, weights) + biases\n",
    "\n",
    "\n",
    "class TemporalAttention(nn.Module):\n",
    "    def __init__(self, in_dim, factorized):\n",
    "        super(TemporalAttention, self).__init__()\n",
    "        self.K = 8\n",
    "        # Multihead\n",
    "        if in_dim % self.K != 0:\n",
    "            raise Exception('Hidden size is not divisible by the number of attention heads')\n",
    "\n",
    "        self.head_size = int(in_dim // self.K)\n",
    "        self.custom_linear = CustomLinear(factorized)\n",
    "\n",
    "    def forward(self, query, key, value, weights_distinct, biases_distinct, weights_shared, biases_shared):\n",
    "        batch_size = query.shape[0]\n",
    "\n",
    "        # [batch_size, num_step, N, K * head_size]\n",
    "        # We need to transform \"key\" and \"value\", so we need to number_of_weights = 2\n",
    "        key = self.custom_linear(key, weights_distinct[0], biases_distinct[0])\n",
    "        value = self.custom_linear(value, weights_distinct[1], biases_distinct[1])\n",
    "\n",
    "        # [K * batch_size, num_step, N, head_size]\n",
    "        query = torch.cat(torch.split(query, self.head_size, dim=-1), dim=0)\n",
    "        key = torch.cat(torch.split(key, self.head_size, dim=-1), dim=0)\n",
    "        value = torch.cat(torch.split(value, self.head_size, dim=-1), dim=0)\n",
    "\n",
    "        # query: [K * batch_size, N, 1, head_size]\n",
    "        # key:   [K * batch_size, N, head_size, num_step]\n",
    "        # value: [K * batch_size, N, num_step, head_size]\n",
    "        query = query.permute((0, 2, 1, 3))\n",
    "        key = key.permute((0, 2, 3, 1))\n",
    "        value = value.permute((0, 2, 1, 3))\n",
    "\n",
    "        attention = torch.matmul(query, key)  # [K * batch_size, N, num_step, num_step]\n",
    "        attention /= (self.head_size ** 0.5)\n",
    "\n",
    "        # normalize the attention scores\n",
    "        attention = torch.softmax(attention, dim=-1)\n",
    "\n",
    "        x = torch.matmul(attention, value)  # [batch_size * head_size, num_step, N, K]\n",
    "        x = x.permute((0, 2, 1, 3))\n",
    "        x = torch.cat(torch.split(x, batch_size, dim=0), dim=-1)\n",
    "\n",
    "        # projection\n",
    "        x = self.custom_linear(x, weights_shared[0], biases_shared[0])\n",
    "        x = torch.tanh(x)\n",
    "        x = self.custom_linear(x, weights_shared[1], biases_shared[1])\n",
    "        return x\n",
    "\n",
    "\n",
    "class WeightGenerator(nn.Module):\n",
    "    def __init__(self, in_dim, out_dim, mem_dim, num_nodes, factorized, number_of_weights=4):\n",
    "        super(WeightGenerator, self).__init__()\n",
    "        # number_of_weights here is the attention weight, not N, i.e. the number of variables\n",
    "        self.number_of_weights = number_of_weights\n",
    "        self.mem_dim = mem_dim\n",
    "        self.num_nodes = num_nodes\n",
    "        self.factorized = factorized\n",
    "        self.out_dim = out_dim\n",
    "        if self.factorized:\n",
    "            # self.memory = nn.Parameter(torch.randn(num_nodes, mem_dim), requires_grad=True).to('cuda:0')\n",
    "            self.memory = nn.Parameter(torch.randn(num_nodes, mem_dim), requires_grad=True).to('cpu')\n",
    "            self.generator = self.generator = nn.Sequential(*[\n",
    "                nn.Linear(mem_dim, 64),\n",
    "                nn.Tanh(),\n",
    "                nn.Linear(64, 64),\n",
    "                nn.Tanh(),\n",
    "                nn.Linear(64, 5 * 5)\n",
    "            ])\n",
    "            # d * a, matrix L in Section 4.3 Figure 4 (b)\n",
    "            self.P = nn.ParameterList(\n",
    "                [nn.Parameter(torch.Tensor(in_dim, self.mem_dim), requires_grad=True) for _ in\n",
    "                 range(number_of_weights)])\n",
    "            # a * d, matrix R in section 4.3 Figure 4 (b)\n",
    "            self.Q = nn.ParameterList(\n",
    "                [nn.Parameter(torch.Tensor(self.mem_dim, out_dim), requires_grad=True) for _ in\n",
    "                 range(number_of_weights)])\n",
    "            # a * a * N, a << d to be light-weighted\n",
    "            self.B = nn.ParameterList(\n",
    "                [nn.Parameter(torch.Tensor(self.mem_dim ** 2, out_dim), requires_grad=True) for _ in\n",
    "                 range(number_of_weights)])\n",
    "        else:\n",
    "            # Dense matrix for weights and biases\n",
    "            self.P = nn.ParameterList(\n",
    "                [nn.Parameter(torch.Tensor(in_dim, out_dim), requires_grad=True) for _ in range(number_of_weights)])\n",
    "            self.B = nn.ParameterList(\n",
    "                [nn.Parameter(torch.Tensor(1, out_dim), requires_grad=True) for _ in range(number_of_weights)])\n",
    "        # Reset parameters after structuring\n",
    "        self.reset_parameters()\n",
    "\n",
    "    def reset_parameters(self):\n",
    "        list_params = [self.P, self.Q, self.B] if self.factorized else [self.P]\n",
    "        for weight_list in list_params:\n",
    "            for weight in weight_list:\n",
    "                init.kaiming_uniform_(weight, a=math.sqrt(5))\n",
    "\n",
    "        if not self.factorized:\n",
    "            for i in range(self.number_of_weights):\n",
    "                fan_in, _ = init._calculate_fan_in_and_fan_out(self.P[i])\n",
    "                bound = 1 / math.sqrt(fan_in) if fan_in > 0 else 0\n",
    "                init.uniform_(self.B[i], -bound, bound)\n",
    "\n",
    "    def forward(self):\n",
    "        # Section 4.3 Figure 4\n",
    "        if self.factorized:\n",
    "            # If we change the mem_dim, we also adjust the dimensions in self.generator\n",
    "            memory = self.generator(self.memory.unsqueeze(1))\n",
    "            bias = [torch.matmul(memory, self.B[i]).squeeze(1) for i in range(self.number_of_weights)]\n",
    "            memory = memory.view(self.num_nodes, self.mem_dim, self.mem_dim)\n",
    "            weights = [torch.matmul(torch.matmul(self.P[i], memory), self.Q[i]) for i in range(self.number_of_weights)]\n",
    "            return weights, bias\n",
    "        else:\n",
    "            return self.P, self.B"
   ]
  },
  {
   "cell_type": "markdown",
   "metadata": {},
   "source": [
    "## Sample Data"
   ]
  },
  {
   "cell_type": "code",
   "execution_count": 6,
   "metadata": {},
   "outputs": [],
   "source": [
    "class SyntheticDataset(Dataset):\n",
    "    def __init__(self, num_nodes=5, seq_len=20, horizon=3, samples=1000):\n",
    "        self.num_nodes = num_nodes\n",
    "        self.seq_len = seq_len\n",
    "        self.horizon = horizon\n",
    "        self.samples = samples\n",
    "        \n",
    "        # Generate random time series data\n",
    "        np.random.seed(42)\n",
    "        self.data = np.sin(np.linspace(0, 20, seq_len * samples).reshape(samples, seq_len)) + \\\n",
    "                    np.random.normal(0, 0.1, (samples, seq_len))\n",
    "        \n",
    "        # Duplicate for multiple nodes\n",
    "        self.data = np.repeat(self.data[:, :, np.newaxis], num_nodes, axis=2)\n",
    "\n",
    "    def __len__(self):\n",
    "        return self.samples\n",
    "\n",
    "    def __getitem__(self, idx):\n",
    "        x = self.data[idx, :-self.horizon, :]  # Input sequence\n",
    "        y = self.data[idx, -self.horizon:, :]  # Horizon (target)\n",
    "        return torch.tensor(x, dtype=torch.float32), torch.tensor(y, dtype=torch.float32)\n",
    "\n",
    "# Hyperparameters for dataset\n",
    "num_nodes = 5\n",
    "seq_len = 20\n",
    "horizon = 3\n",
    "samples = 1000\n",
    "\n",
    "# Generate data\n",
    "train_dataset = SyntheticDataset(num_nodes=num_nodes, seq_len=seq_len, horizon=horizon, samples=samples)\n",
    "test_dataset = SyntheticDataset(num_nodes=num_nodes, seq_len=seq_len, horizon=horizon, samples=200)\n",
    "\n",
    "train_loader = DataLoader(train_dataset, batch_size=16, shuffle=True)\n",
    "test_loader = DataLoader(test_dataset, batch_size=16, shuffle=False)\n"
   ]
  },
  {
   "cell_type": "markdown",
   "metadata": {},
   "source": [
    "## Mock Training"
   ]
  },
  {
   "cell_type": "code",
   "execution_count": 16,
   "metadata": {},
   "outputs": [
    {
     "name": "stdout",
     "output_type": "stream",
     "text": [
      "Predicting 3 steps ahead\n",
      "torch.Size([16, 17, 5])\n",
      "Epoch 1/10, Loss: 0.2010\n",
      "Epoch 2/10, Loss: 0.0161\n",
      "Epoch 3/10, Loss: 0.0145\n",
      "Epoch 4/10, Loss: 0.0143\n",
      "Epoch 5/10, Loss: 0.0152\n",
      "Epoch 6/10, Loss: 0.0154\n",
      "Epoch 7/10, Loss: 0.0150\n",
      "Epoch 8/10, Loss: 0.0136\n",
      "Epoch 9/10, Loss: 0.0143\n",
      "Epoch 10/10, Loss: 0.0142\n",
      "Test Loss: 0.0140\n"
     ]
    }
   ],
   "source": [
    "import torch.nn as nn\n",
    "import torch.optim as optim\n",
    "\n",
    "# Assuming Triformer class is defined as in your provided code\n",
    "device = torch.device(\"cuda\" if torch.cuda.is_available() else \"cpu\")\n",
    "\n",
    "# Hyperparameters\n",
    "input_dim = 1\n",
    "output_dim = 1\n",
    "channels = 16\n",
    "dynamic = True\n",
    "lag = 8  # seq_len - horizon\n",
    "patch_sizes = [1, 2, 4]\n",
    "mem_dim = 8\n",
    "\n",
    "# Initialize model\n",
    "model = Triformer(\n",
    "    device=device,\n",
    "    num_nodes=num_nodes,\n",
    "    input_dim=input_dim,\n",
    "    output_dim=output_dim,\n",
    "    channels=channels,\n",
    "    dynamic=dynamic,\n",
    "    lag=lag,\n",
    "    horizon=horizon,\n",
    "    patch_sizes=patch_sizes,\n",
    "    supports=None,\n",
    "    mem_dim=mem_dim\n",
    ").to(device)\n",
    "\n",
    "# Loss function and optimizer\n",
    "criterion = nn.MSELoss()\n",
    "optimizer = optim.Adam(model.parameters(), lr=0.001)\n",
    "\n",
    "# Training loop\n",
    "def train_model(model, train_loader, criterion, optimizer, epochs=10):\n",
    "    model.train()\n",
    "    for epoch in range(epochs):\n",
    "        epoch_loss = 0\n",
    "        for batch_x, batch_y in train_loader:\n",
    "            batch_x, batch_y = batch_x.to(device), batch_y.to(device)\n",
    "\n",
    "            # Forward pass\n",
    "            optimizer.zero_grad()\n",
    "            predictions = model(batch_x, None, None, None)\n",
    "\n",
    "            # Compute loss\n",
    "            loss = criterion(predictions, batch_y)\n",
    "            epoch_loss += loss.item()\n",
    "\n",
    "            # Backward pass\n",
    "            loss.backward()\n",
    "            optimizer.step()\n",
    "\n",
    "        print(f\"Epoch {epoch+1}/{epochs}, Loss: {epoch_loss / len(train_loader):.4f}\")\n",
    "\n",
    "# Testing loop\n",
    "def test_model(model, test_loader, criterion):\n",
    "    model.eval()\n",
    "    total_loss = 0\n",
    "    with torch.no_grad():\n",
    "        for batch_x, batch_y in test_loader:\n",
    "            batch_x, batch_y = batch_x.to(device), batch_y.to(device)\n",
    "            predictions = model(batch_x, None, None, None)\n",
    "            \n",
    "            loss = criterion(predictions, batch_y)\n",
    "            total_loss += loss.item()\n",
    "    print(f\"Test Loss: {total_loss / len(test_loader):.4f}\")\n",
    "\n",
    "# Train and test\n",
    "train_model(model, train_loader, criterion, optimizer, epochs=10)\n",
    "test_model(model, test_loader, criterion)\n"
   ]
  },
  {
   "cell_type": "markdown",
   "metadata": {},
   "source": [
    "## Mock Predictions"
   ]
  },
  {
   "cell_type": "code",
   "execution_count": 11,
   "metadata": {},
   "outputs": [
    {
     "data": {
      "image/png": "[encoded data removed]",
      "text/plain": [
       "<Figure size 1000x500 with 5 Axes>"
      ]
     },
     "metadata": {},
     "output_type": "display_data"
    }
   ],
   "source": [
    "import matplotlib.pyplot as plt\n",
    "\n",
    "def plot_predictions(model, test_loader):\n",
    "    model.eval()\n",
    "    batch_x, batch_y = next(iter(test_loader))\n",
    "    batch_x, batch_y = batch_x.to(device), batch_y.to(device)\n",
    "    predictions = model(batch_x, None, None, None)\n",
    "    # print(predictions.shape)\n",
    "\n",
    "    plt.figure(figsize=(10, 5))\n",
    "    for i in range(min(5, batch_x.size(0))):  # Plot for 5 samples\n",
    "        plt.subplot(1, 5, i + 1)\n",
    "        plt.plot(range(batch_y.size(1)), batch_y[i, :, 0].cpu().numpy(), label=\"True\")\n",
    "        plt.plot(range(predictions.size(1)), predictions[i, :, 0].cpu().detach().numpy(), label=\"Predicted\")\n",
    "        plt.title(f\"Sample {i+1}\")\n",
    "        plt.legend()\n",
    "    plt.tight_layout()\n",
    "    plt.show()\n",
    "\n",
    "# Plot predictions\n",
    "plot_predictions(model, test_loader)"
   ]
  },
  {
   "cell_type": "markdown",
   "metadata": {},
   "source": [
    "# Train on New Dataset"
   ]
  },
  {
   "cell_type": "code",
   "execution_count": 3,
   "metadata": {},
   "outputs": [
    {
     "name": "stdout",
     "output_type": "stream",
     "text": [
      "Path to dataset files: C:\\Users\\HW\\.cache\\kagglehub\\datasets\\saketk511\\2019-2024-us-stock-market-data\\versions\\1\n"
     ]
    }
   ],
   "source": [
    "# Download latest version\n",
    "path = kagglehub.dataset_download(\"saketk511/2019-2024-us-stock-market-data\")\n",
    "\n",
    "print(\"Path to dataset files:\", path)"
   ]
  },
  {
   "cell_type": "code",
   "execution_count": 18,
   "metadata": {},
   "outputs": [],
   "source": [
    "df = pd.read_csv(os.path.join(path, \"Stock Market Dataset.csv\"))\n",
    "# df.info()\n",
    "# df.head()\n"
   ]
  },
  {
   "cell_type": "code",
   "execution_count": 19,
   "metadata": {},
   "outputs": [
    {
     "name": "stdout",
     "output_type": "stream",
     "text": [
      "Train Dataset Size: 911\n",
      "Test Dataset Size: 228\n"
     ]
    },
    {
     "data": {
      "text/html": [
       "Finishing last run (ID:3vrdzvgw) before initializing another..."
      ],
      "text/plain": [
       "<IPython.core.display.HTML object>"
      ]
     },
     "metadata": {},
     "output_type": "display_data"
    },
    {
     "data": {
      "text/html": [
       "\n",
       "    <style>\n",
       "        .wandb-row {\n",
       "            display: flex;\n",
       "            flex-direction: row;\n",
       "            flex-wrap: wrap;\n",
       "            justify-content: flex-start;\n",
       "            width: 100%;\n",
       "        }\n",
       "        .wandb-col {\n",
       "            display: flex;\n",
       "            flex-direction: column;\n",
       "            flex-basis: 100%;\n",
       "            flex: 1;\n",
       "            padding: 10px;\n",
       "        }\n",
       "    </style>\n",
       "<div class=\"wandb-row\"><div class=\"wandb-col\"><h3>Run history:</h3><br/><table class=\"wandb\"><tr><td>Epoch</td><td>▁▅█</td></tr><tr><td>Test Loss</td><td>▁</td></tr><tr><td>Train Loss</td><td>█▁▁</td></tr></table><br/></div><div class=\"wandb-col\"><h3>Run summary:</h3><br/><table class=\"wandb\"><tr><td>Epoch</td><td>3</td></tr><tr><td>Test Loss</td><td>0.23073</td></tr><tr><td>Train Loss</td><td>0.01836</td></tr></table><br/></div></div>"
      ],
      "text/plain": [
       "<IPython.core.display.HTML object>"
      ]
     },
     "metadata": {},
     "output_type": "display_data"
    },
    {
     "data": {
      "text/html": [
       " View run <strong style=\"color:#cdcd00\">peach-hill-2</strong> at: <a href='https://wandb.ai/yhongda-university-of-michigan/triformer-gold-price/runs/3vrdzvgw' target=\"_blank\">https://wandb.ai/yhongda-university-of-michigan/triformer-gold-price/runs/3vrdzvgw</a><br/> View project at: <a href='https://wandb.ai/yhongda-university-of-michigan/triformer-gold-price' target=\"_blank\">https://wandb.ai/yhongda-university-of-michigan/triformer-gold-price</a><br/>Synced 5 W&B file(s), 0 media file(s), 0 artifact file(s) and 0 other file(s)"
      ],
      "text/plain": [
       "<IPython.core.display.HTML object>"
      ]
     },
     "metadata": {},
     "output_type": "display_data"
    },
    {
     "data": {
      "text/html": [
       "Find logs at: <code>.\\wandb\\run-20241204_224608-3vrdzvgw\\logs</code>"
      ],
      "text/plain": [
       "<IPython.core.display.HTML object>"
      ]
     },
     "metadata": {},
     "output_type": "display_data"
    },
    {
     "data": {
      "text/html": [
       "Successfully finished last run (ID:3vrdzvgw). Initializing new run:<br/>"
      ],
      "text/plain": [
       "<IPython.core.display.HTML object>"
      ]
     },
     "metadata": {},
     "output_type": "display_data"
    },
    {
     "data": {
      "text/html": [
       "Tracking run with wandb version 0.18.7"
      ],
      "text/plain": [
       "<IPython.core.display.HTML object>"
      ]
     },
     "metadata": {},
     "output_type": "display_data"
    },
    {
     "data": {
      "text/html": [
       "Run data is saved locally in <code>h:\\MAS_Y1\\EECS553\\homework\\FinalProject\\wandb\\run-20241205_012849-ibedjiwl</code>"
      ],
      "text/plain": [
       "<IPython.core.display.HTML object>"
      ]
     },
     "metadata": {},
     "output_type": "display_data"
    },
    {
     "data": {
      "text/html": [
       "Syncing run <strong><a href='https://wandb.ai/yhongda-university-of-michigan/triformer-gold-price/runs/ibedjiwl' target=\"_blank\">dainty-forest-3</a></strong> to <a href='https://wandb.ai/yhongda-university-of-michigan/triformer-gold-price' target=\"_blank\">Weights & Biases</a> (<a href='https://wandb.me/developer-guide' target=\"_blank\">docs</a>)<br/>"
      ],
      "text/plain": [
       "<IPython.core.display.HTML object>"
      ]
     },
     "metadata": {},
     "output_type": "display_data"
    },
    {
     "data": {
      "text/html": [
       " View project at <a href='https://wandb.ai/yhongda-university-of-michigan/triformer-gold-price' target=\"_blank\">https://wandb.ai/yhongda-university-of-michigan/triformer-gold-price</a>"
      ],
      "text/plain": [
       "<IPython.core.display.HTML object>"
      ]
     },
     "metadata": {},
     "output_type": "display_data"
    },
    {
     "data": {
      "text/html": [
       " View run at <a href='https://wandb.ai/yhongda-university-of-michigan/triformer-gold-price/runs/ibedjiwl' target=\"_blank\">https://wandb.ai/yhongda-university-of-michigan/triformer-gold-price/runs/ibedjiwl</a>"
      ],
      "text/plain": [
       "<IPython.core.display.HTML object>"
      ]
     },
     "metadata": {},
     "output_type": "display_data"
    }
   ],
   "source": [
    "# Convert Gold_Price to numeric and handle missing values\n",
    "df['Gold_Price'] = pd.to_numeric(df['Gold_Price'].str.replace(',', ''), errors='coerce')\n",
    "df['Gold_Vol.'] = pd.to_numeric(df['Gold_Vol.'], errors='coerce')\n",
    "df = df.dropna(subset=['Gold_Price', 'Gold_Vol.'])\n",
    "min_max_scaler = sklearn.preprocessing.MinMaxScaler()\n",
    "df[['Gold_Price', 'Gold_Vol.']] = min_max_scaler.fit_transform(df[['Gold_Price', 'Gold_Vol.']])\n",
    "\n",
    "\n",
    "# Hyperparameters\n",
    "seq_len = 96  # Length of input sequence\n",
    "horizon = 7   # Predict 1 step ahead\n",
    "num_samples = len(df) - seq_len - horizon + 1\n",
    "num_nodes = 1\n",
    "\n",
    "# Create input-output pairs\n",
    "inputs = []\n",
    "targets = []\n",
    "\n",
    "for i in range(num_samples):\n",
    "    input_seq = df[['Gold_Price', 'Gold_Vol.']].iloc[i:i + seq_len].values\n",
    "    target = df['Gold_Price'].iloc[i + seq_len:i + seq_len + horizon].values\n",
    "    inputs.append(input_seq)\n",
    "    targets.append(target)\n",
    "\n",
    "inputs = np.array(inputs)\n",
    "targets = np.array(targets)\n",
    "\n",
    "# Define PyTorch Dataset\n",
    "class GoldPriceDataset(Dataset):\n",
    "    def __init__(self, inputs, targets):\n",
    "        self.inputs = torch.tensor(inputs, dtype=torch.float32)\n",
    "        self.inputs = np.repeat(self.inputs[:, :, np.newaxis], num_nodes, axis=2)\n",
    "        self.targets = torch.tensor(targets, dtype=torch.float32)\n",
    "        self.targets = np.repeat(self.targets[:, :, np.newaxis], num_nodes, axis=2)\n",
    "    \n",
    "    def __len__(self):\n",
    "        return len(self.inputs)\n",
    "    \n",
    "    def __getitem__(self, idx):\n",
    "        return self.inputs[idx], self.targets[idx]\n",
    "\n",
    "# Split into train and test sets\n",
    "train_size = int(0.8 * len(inputs))\n",
    "test_size = len(inputs) - train_size\n",
    "\n",
    "train_dataset = GoldPriceDataset(inputs[:train_size], targets[:train_size])\n",
    "test_dataset = GoldPriceDataset(inputs[train_size:], targets[train_size:])\n",
    "\n",
    "# Create DataLoaders\n",
    "train_loader = DataLoader(train_dataset, batch_size=32, shuffle=True)\n",
    "test_loader = DataLoader(test_dataset, batch_size=32, shuffle=False)\n",
    "\n",
    "print(\"Train Dataset Size:\", len(train_dataset))\n",
    "print(\"Test Dataset Size:\", len(test_dataset))\n",
    "\n",
    "# Initialize wandb project\n",
    "wandb.init(\n",
    "    project=\"triformer-gold-price\",  # Replace with your project name\n",
    "    config={\n",
    "        \"learning_rate\": 0.001,\n",
    "        \"epochs\": 20,\n",
    "        \"batch_size\": train_loader.batch_size,\n",
    "        \"patch_sizes\": [2, 4, 12],\n",
    "        \"num_nodes\": 1,\n",
    "        \"lag\": 96,\n",
    "        \"horizon\": 7,\n",
    "        \"channels\": 16,\n",
    "    }\n",
    ")\n",
    "config = wandb.config"
   ]
  },
  {
   "cell_type": "code",
   "execution_count": 21,
   "metadata": {},
   "outputs": [
    {
     "name": "stdout",
     "output_type": "stream",
     "text": [
      "Predicting 7 steps ahead\n",
      "torch.Size([32, 96, 1, 2])\n",
      "Epoch 1/3, Loss: 0.0598\n",
      "Epoch 2/3, Loss: 0.0212\n",
      "Epoch 3/3, Loss: 0.0215\n",
      "Test Loss: 0.2790\n"
     ]
    }
   ],
   "source": [
    "device = torch.device(\"cuda\" if torch.cuda.is_available() else \"cpu\")\n",
    "# Initialize model\n",
    "model = Triformer(\n",
    "    device=device,\n",
    "    num_nodes=1,\n",
    "    input_dim=2,\n",
    "    output_dim=1,  # Predicting only gold price\n",
    "    channels=16,\n",
    "    dynamic=True,\n",
    "    lag=96,\n",
    "    horizon=7,\n",
    "    patch_sizes=[2, 4, 12],\n",
    "    supports=None,\n",
    "    mem_dim=8\n",
    ").to(device)\n",
    "\n",
    "# Loss function and optimizer\n",
    "criterion = nn.MSELoss()\n",
    "optimizer = optim.Adam(model.parameters(), lr=0.001, weight_decay=1e-5)\n",
    "\n",
    "# Training loop\n",
    "def train_model(model, train_loader, criterion, optimizer, epochs=20):\n",
    "    model.train()\n",
    "    for epoch in range(epochs):\n",
    "        epoch_loss = 0\n",
    "        for batch_x, batch_y in train_loader:\n",
    "            batch_x, batch_y = batch_x.to(device), batch_y.to(device)\n",
    "\n",
    "            # Forward pass\n",
    "            optimizer.zero_grad()\n",
    "            predictions = model(batch_x, None, None, None)  # Pass through the model\n",
    "\n",
    "            # Compute loss\n",
    "            loss = criterion(predictions, batch_y)\n",
    "            epoch_loss += loss.item()\n",
    "\n",
    "            # Backward pass\n",
    "            loss.backward()\n",
    "            optimizer.step()\n",
    "        avg_loss = epoch_loss / len(train_loader)\n",
    "        wandb.log({\"Train Loss\": avg_loss, \"Epoch\": epoch + 1})\n",
    "        print(f\"Epoch {epoch+1}/{epochs}, Loss: {epoch_loss / len(train_loader):.4f}\")\n",
    "\n",
    "# Testing loop\n",
    "def test_model(model, test_loader, criterion):\n",
    "    model.eval()\n",
    "    total_loss = 0\n",
    "    with torch.no_grad():\n",
    "        for batch_x, batch_y in test_loader:\n",
    "            batch_x, batch_y = batch_x.to(device), batch_y.to(device)\n",
    "            predictions = model(batch_x, None, None, None)\n",
    "\n",
    "            loss = criterion(predictions, batch_y)\n",
    "            total_loss += loss.item()\n",
    "        avg_loss = total_loss / len(test_loader)\n",
    "        wandb.log({\"Test Loss\": avg_loss})\n",
    "    print(f\"Test Loss: {total_loss / len(test_loader):.4f}\")\n",
    "\n",
    "# Train and test\n",
    "train_model(model, train_loader, criterion, optimizer, epochs=3)\n",
    "test_model(model, test_loader, criterion)\n"
   ]
  },
  {
   "cell_type": "code",
   "execution_count": 12,
   "metadata": {},
   "outputs": [
    {
     "data": {
      "image/png": "[encoded data removed]",
      "text/plain": [
       "<Figure size 1000x500 with 5 Axes>"
      ]
     },
     "metadata": {},
     "output_type": "display_data"
    }
   ],
   "source": [
    "plot_predictions(model, test_loader)"
   ]
  },
  {
   "cell_type": "markdown",
   "metadata": {},
   "source": [
    "# Assess Performance on Experiment Dataset"
   ]
  },
  {
   "cell_type": "code",
   "execution_count": null,
   "metadata": {},
   "outputs": [],
   "source": [
    "# Read in data\n",
    "path = \"https://raw.githubusercontent.com/zhouhaoyi/ETDataset/main/ETT-small/ETTh1.csv\"\n",
    "\n",
    "# Other paths include: \n",
    "# https://raw.githubusercontent.com/zhouhaoyi/ETDataset/main/ETT-small/ETTh2.csv,\n",
    "# https://raw.githubusercontent.com/zhouhaoyi/ETDataset/main/ETT-small/ETTm1.csv, \n",
    "# https://raw.githubusercontent.com/zhouhaoyi/ETDataset/main/ETT-small/ETTm2.csv, \n",
    "# \"https://drive.google.com/uc?export=download&id=1rUPdR7R2iWFW-LMoDdHoO2g4KgnkpFzP\",\n",
    "# \"https://drive.google.com/uc?export=download&id=1UBRz-aM_57i_KCC-iaSWoKDPTGGv6EaG\"\n",
    "\n",
    "df = pd.read_csv(path)"
   ]
  },
  {
   "cell_type": "code",
   "execution_count": null,
   "metadata": {},
   "outputs": [],
   "source": []
  }
 ],
 "metadata": {
  "kernelspec": {
   "display_name": "ML_1",
   "language": "python",
   "name": "python3"
  },
  "language_info": {
   "codemirror_mode": {
    "name": "ipython",
    "version": 3
   },
   "file_extension": ".py",
   "mimetype": "text/x-python",
   "name": "python",
   "nbconvert_exporter": "python",
   "pygments_lexer": "ipython3",
   "version": "3.10.15"
  }
 },
 "nbformat": 4,
 "nbformat_minor": 2
}
