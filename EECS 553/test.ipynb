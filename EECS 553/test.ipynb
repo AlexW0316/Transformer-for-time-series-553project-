{
 "cells": [
  {
   "cell_type": "code",
   "execution_count": null,
   "id": "initial_id",
   "metadata": {
    "collapsed": true
   },
   "outputs": [],
   "source": [
    "import torch\n",
    "from Transformer import GPT\n",
    "from tqdm import tqdm\n",
    "from  data_provider import dataloader_train, dataloader_valid\n",
    "import pandas as pd"
   ]
  },
  {
   "metadata": {},
   "cell_type": "code",
   "outputs": [],
   "execution_count": null,
   "source": [
    "model = GPT()\n",
    "model.load_state_dict(torch.load(\"model_state.pth\"))\n",
    "model.eval()\n",
    "\n",
    "learning_rate = 2e-5\n",
    "optimizer = torch.optim.Adam(model.parameters(), lr=learning_rate)\n",
    "\n",
    "valid_losses = []\n",
    "out_dfs = [] \n",
    "for batch_idx, (X, y, date, stock) in enumerate(dataloader_valid): \n",
    "        cur_out = model(X).squeeze()\n",
    "        loss = torch.nn.MSELoss(cur_out, y)  \n",
    "        loss.backward() \n",
    "        optimizer.step()  \n",
    "        valid_losses += [loss.data] \n",
    "        out_df = pd.DataFrame()  \n",
    "        out_df['stock'] = stock  \n",
    "        out_df['pred'] = cur_out.squeeze().detach().cpu().numpy() \n",
    "        out_df['label'] = y \n",
    "        out_df['date']  = date \n",
    "        out_dfs += [out_df] \n",
    "# print('%d: Current loss = %.4f' % (epoch, np.mean(valid_losses, axis=0)) ) "
   ],
   "id": "7ed1f1ef84f36f7b"
  }
 ],
 "metadata": {
  "kernelspec": {
   "display_name": "Python 3",
   "language": "python",
   "name": "python3"
  },
  "language_info": {
   "codemirror_mode": {
    "name": "ipython",
    "version": 2
   },
   "file_extension": ".py",
   "mimetype": "text/x-python",
   "name": "python",
   "nbconvert_exporter": "python",
   "pygments_lexer": "ipython2",
   "version": "2.7.6"
  }
 },
 "nbformat": 4,
 "nbformat_minor": 5
}
