{
 "cells": [
  {
   "cell_type": "code",
   "execution_count": 10,
   "id": "initial_id",
   "metadata": {
    "ExecuteTime": {
     "end_time": "2024-12-05T17:51:54.069710Z",
     "start_time": "2024-12-05T17:51:52.908917Z"
    },
    "collapsed": true
   },
   "outputs": [],
   "source": [
    "import torch\n",
    "from Transformer import GPT, GPTConfig\n",
    "from tqdm import tqdm\n",
    "from  data_provider import dataloader_train, dataloader_valid\n",
    "import pandas as pd\n",
    "import numpy as np\n"
   ]
  },
  {
   "cell_type": "code",
   "execution_count": 20,
   "id": "fe5684bd8d919e94",
   "metadata": {
    "ExecuteTime": {
     "end_time": "2024-12-05T17:52:05.521165Z",
     "start_time": "2024-12-05T17:52:04.003913Z"
    }
   },
   "outputs": [
    {
     "name": "stderr",
     "output_type": "stream",
     "text": [
      "/home/maizhezh/eecs498-011/Transformers4TimeSeries/EECS 553/Transformer.py:98: FutureWarning: `nn.init.normal` is now deprecated in favor of `nn.init.normal_`.\n",
      "  torch.nn.init.normal(module.weight, mean=0.0, std=std)\n"
     ]
    }
   ],
   "source": [
    "model = GPT(GPTConfig)\n",
    "num_epochs = 100\n",
    "learning_rate = 2e-5\n",
    "\n",
    "optimizer = torch.optim.Adam(model.parameters(), lr=learning_rate)"
   ]
  },
  {
   "cell_type": "code",
   "execution_count": null,
   "id": "6804328b25cabd62",
   "metadata": {
    "ExecuteTime": {
     "start_time": "2024-12-05T17:57:49.303762Z"
    },
    "jupyter": {
     "is_executing": true
    }
   },
   "outputs": [
    {
     "name": "stderr",
     "output_type": "stream",
     "text": [
      "  0%|          | 0/100 [00:00<?, ?it/s]"
     ]
    }
   ],
   "source": [
    "device = torch.device('cuda' if torch.cuda.is_available() else 'cpu')\n",
    "model = model.to(device)\n",
    "\n",
    "model.train()\n",
    "loss_fn = torch.nn.MSELoss()\n",
    "for epoch in tqdm(range(num_epochs)):\n",
    "    train_losses = [] \n",
    "    for batch_idx, (X, y) in enumerate(dataloader_train):  # [window_size, n_features]\n",
    "        X = X.to(device, dtype=torch.float)\n",
    "        y = y.to(device, dtype=torch.double)\n",
    "        out = model(X.to(torch.float)).squeeze()\n",
    "        y = y.to(torch.double)\n",
    "        out = out.to(torch.double)\n",
    "        loss = loss_fn(out, y)\n",
    "        loss.backward()\n",
    "        optimizer.step()  \n",
    "        train_losses += [loss.data.to(\"cpu\")] \n",
    "\n",
    "    print('Epoch %d: Current mean loss = %.4f' % (epoch, np.mean(train_losses, axis=0)))\n",
    "\n",
    "print('Finished Training')"
   ]
  },
  {
   "cell_type": "code",
   "execution_count": null,
   "id": "aa7613a95668b753",
   "metadata": {},
   "outputs": [],
   "source": [
    "torch.save(model.state_dict(), \"model_state.pth\")"
   ]
  }
 ],
 "metadata": {
  "kernelspec": {
   "display_name": "Python 3",
   "language": "python",
   "name": "python3"
  },
  "language_info": {
   "codemirror_mode": {
    "name": "ipython",
    "version": 2
   },
   "file_extension": ".py",
   "mimetype": "text/x-python",
   "name": "python",
   "nbconvert_exporter": "python",
   "pygments_lexer": "ipython2",
   "version": "2.7.6"
  }
 },
 "nbformat": 4,
 "nbformat_minor": 5
}
