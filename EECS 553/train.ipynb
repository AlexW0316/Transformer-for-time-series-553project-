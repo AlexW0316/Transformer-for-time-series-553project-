{
 "cells": [
  {
   "cell_type": "code",
   "id": "initial_id",
   "metadata": {
    "collapsed": true,
    "ExecuteTime": {
     "end_time": "2024-12-03T14:46:20.083285Z",
     "start_time": "2024-12-03T14:46:19.207369Z"
    }
   },
   "source": [
    "import torch\n",
    "from Transformer import GPT\n",
    "from tqdm import tqdm\n",
    "from  data_provider import dataloader_train, dataloader_valid, dataloader_test\n",
    "import pandas as pd\n",
    "import numpy as np\n"
   ],
   "outputs": [
    {
     "name": "stdout",
     "output_type": "stream",
     "text": [
      "using device: mps\n"
     ]
    },
    {
     "ename": "FileNotFoundError",
     "evalue": "[Errno 2] No such file or directory: 'input.txt'",
     "output_type": "error",
     "traceback": [
      "\u001B[0;31m---------------------------------------------------------------------------\u001B[0m",
      "\u001B[0;31mFileNotFoundError\u001B[0m                         Traceback (most recent call last)",
      "Cell \u001B[0;32mIn[2], line 2\u001B[0m\n\u001B[1;32m      1\u001B[0m \u001B[38;5;28;01mimport\u001B[39;00m \u001B[38;5;21;01mtorch\u001B[39;00m\n\u001B[0;32m----> 2\u001B[0m \u001B[38;5;28;01mfrom\u001B[39;00m \u001B[38;5;21;01mTransformer\u001B[39;00m \u001B[38;5;28;01mimport\u001B[39;00m GPT\n\u001B[1;32m      3\u001B[0m \u001B[38;5;28;01mfrom\u001B[39;00m \u001B[38;5;21;01mtqdm\u001B[39;00m \u001B[38;5;28;01mimport\u001B[39;00m tqdm\n\u001B[1;32m      4\u001B[0m \u001B[38;5;28;01mfrom\u001B[39;00m  \u001B[38;5;21;01mdata_provider\u001B[39;00m \u001B[38;5;28;01mimport\u001B[39;00m dataloader_train, dataloader_valid, dataloader_test\n",
      "File \u001B[0;32m~/PycharmProjects/Transformers4TimeSeries/EECS 553/Transformer.py:167\u001B[0m\n\u001B[1;32m    163\u001B[0m             \u001B[38;5;28mself\u001B[39m\u001B[38;5;241m.\u001B[39mcurrent_position \u001B[38;5;241m=\u001B[39m \u001B[38;5;241m0\u001B[39m\n\u001B[1;32m    164\u001B[0m         \u001B[38;5;28;01mreturn\u001B[39;00m x, y\n\u001B[0;32m--> 167\u001B[0m train_loader \u001B[38;5;241m=\u001B[39m DataLoaderLite(\u001B[38;5;241m4\u001B[39m, \u001B[38;5;241m32\u001B[39m)\n\u001B[1;32m    169\u001B[0m model \u001B[38;5;241m=\u001B[39m GPT(GPTConfig())\n\u001B[1;32m    170\u001B[0m model\u001B[38;5;241m.\u001B[39mto(device)\n",
      "File \u001B[0;32m~/PycharmProjects/Transformers4TimeSeries/EECS 553/Transformer.py:146\u001B[0m, in \u001B[0;36mDataLoaderLite.__init__\u001B[0;34m(self, B, T)\u001B[0m\n\u001B[1;32m    143\u001B[0m \u001B[38;5;28mself\u001B[39m\u001B[38;5;241m.\u001B[39mB \u001B[38;5;241m=\u001B[39m B\n\u001B[1;32m    144\u001B[0m \u001B[38;5;28mself\u001B[39m\u001B[38;5;241m.\u001B[39mT \u001B[38;5;241m=\u001B[39m T\n\u001B[0;32m--> 146\u001B[0m \u001B[38;5;28;01mwith\u001B[39;00m \u001B[38;5;28mopen\u001B[39m(\u001B[38;5;124m'\u001B[39m\u001B[38;5;124minput.txt\u001B[39m\u001B[38;5;124m'\u001B[39m) \u001B[38;5;28;01mas\u001B[39;00m f:\n\u001B[1;32m    147\u001B[0m     text \u001B[38;5;241m=\u001B[39m f\u001B[38;5;241m.\u001B[39mread()\n\u001B[1;32m    148\u001B[0m enc \u001B[38;5;241m=\u001B[39m tiktoken\u001B[38;5;241m.\u001B[39mget_encoding(\u001B[38;5;124m'\u001B[39m\u001B[38;5;124mgpt2\u001B[39m\u001B[38;5;124m'\u001B[39m)\n",
      "\u001B[0;31mFileNotFoundError\u001B[0m: [Errno 2] No such file or directory: 'input.txt'"
     ]
    }
   ],
   "execution_count": 2
  },
  {
   "metadata": {},
   "cell_type": "code",
   "source": [
    "model = GPT()  # todo: modify gpt, add config\n",
    "num_epochs = 2\n",
    "learning_rate = 2e-5\n",
    "\n",
    "optimizer = torch.optim.Adam(model.parameters(), lr=learning_rate)"
   ],
   "id": "fe5684bd8d919e94",
   "outputs": [],
   "execution_count": null
  },
  {
   "metadata": {},
   "cell_type": "code",
   "source": [
    "model.train()\n",
    "for epoch in tqdm(range(num_epochs)):\n",
    "    train_losses = [] \n",
    "    for batch_idx, (X, y) in enumerate(dataloader_train):  # [window_size, n_features], [horizon]\n",
    "        cur_out = model(X).squeeze()\n",
    "        loss = torch.nn.MSELoss(cur_out, y)  # todo: modify \n",
    "        loss.backward()\n",
    "        optimizer.step()  \n",
    "        train_losses += [loss.data] \n",
    "\n",
    "    print('Epoch %d: Current mean loss = %.4f' % (epoch, np.mean(train_losses, axis=0)))\n",
    "\n",
    "print('Finished Training')"
   ],
   "id": "6804328b25cabd62",
   "outputs": [],
   "execution_count": null
  },
  {
   "metadata": {},
   "cell_type": "code",
   "outputs": [],
   "execution_count": null,
   "source": "torch.save(model.state_dict(), \"model_state.pth\")",
   "id": "aa7613a95668b753"
  }
 ],
 "metadata": {
  "kernelspec": {
   "display_name": "Python 3",
   "language": "python",
   "name": "python3"
  },
  "language_info": {
   "codemirror_mode": {
    "name": "ipython",
    "version": 2
   },
   "file_extension": ".py",
   "mimetype": "text/x-python",
   "name": "python",
   "nbconvert_exporter": "python",
   "pygments_lexer": "ipython2",
   "version": "2.7.6"
  }
 },
 "nbformat": 4,
 "nbformat_minor": 5
}
