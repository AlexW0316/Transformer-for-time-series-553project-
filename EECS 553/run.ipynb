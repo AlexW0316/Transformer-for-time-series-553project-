{
 "cells": [
  {
   "cell_type": "code",
   "id": "initial_id",
   "metadata": {
    "collapsed": true,
    "ExecuteTime": {
     "end_time": "2024-12-02T01:12:02.118007Z",
     "start_time": "2024-12-02T01:12:01.089908Z"
    }
   },
   "source": [
    "import torch\n",
    "from models import Transformer\n",
    "import data_provider\n",
    "import numpy as np\n",
    "import pandas as pd"
   ],
   "outputs": [
    {
     "name": "stdout",
     "output_type": "stream",
     "text": [
      "using device: mps\n"
     ]
    },
    {
     "ename": "FileNotFoundError",
     "evalue": "[Errno 2] No such file or directory: 'input.txt'",
     "output_type": "error",
     "traceback": [
      "\u001B[0;31m---------------------------------------------------------------------------\u001B[0m",
      "\u001B[0;31mFileNotFoundError\u001B[0m                         Traceback (most recent call last)",
      "Cell \u001B[0;32mIn[1], line 2\u001B[0m\n\u001B[1;32m      1\u001B[0m \u001B[38;5;28;01mimport\u001B[39;00m \u001B[38;5;21;01mtorch\u001B[39;00m\n\u001B[0;32m----> 2\u001B[0m \u001B[38;5;28;01mfrom\u001B[39;00m \u001B[38;5;21;01mmodels\u001B[39;00m \u001B[38;5;28;01mimport\u001B[39;00m Transformer\n\u001B[1;32m      3\u001B[0m \u001B[38;5;28;01mimport\u001B[39;00m \u001B[38;5;21;01mdata_provider\u001B[39;00m\n\u001B[1;32m      4\u001B[0m \u001B[38;5;28;01mimport\u001B[39;00m \u001B[38;5;21;01mnumpy\u001B[39;00m \u001B[38;5;28;01mas\u001B[39;00m \u001B[38;5;21;01mnp\u001B[39;00m\n",
      "File \u001B[0;32m~/PycharmProjects/Transformers4TimeSeries/EECS 553/models/Transformer.py:167\u001B[0m\n\u001B[1;32m    163\u001B[0m             \u001B[38;5;28mself\u001B[39m\u001B[38;5;241m.\u001B[39mcurrent_position \u001B[38;5;241m=\u001B[39m \u001B[38;5;241m0\u001B[39m\n\u001B[1;32m    164\u001B[0m         \u001B[38;5;28;01mreturn\u001B[39;00m x, y\n\u001B[0;32m--> 167\u001B[0m train_loader \u001B[38;5;241m=\u001B[39m DataLoaderLite(\u001B[38;5;241m4\u001B[39m, \u001B[38;5;241m32\u001B[39m)\n\u001B[1;32m    169\u001B[0m model \u001B[38;5;241m=\u001B[39m GPT(GPTConfig())\n\u001B[1;32m    170\u001B[0m model\u001B[38;5;241m.\u001B[39mto(device)\n",
      "File \u001B[0;32m~/PycharmProjects/Transformers4TimeSeries/EECS 553/models/Transformer.py:146\u001B[0m, in \u001B[0;36mDataLoaderLite.__init__\u001B[0;34m(self, B, T)\u001B[0m\n\u001B[1;32m    143\u001B[0m \u001B[38;5;28mself\u001B[39m\u001B[38;5;241m.\u001B[39mB \u001B[38;5;241m=\u001B[39m B\n\u001B[1;32m    144\u001B[0m \u001B[38;5;28mself\u001B[39m\u001B[38;5;241m.\u001B[39mT \u001B[38;5;241m=\u001B[39m T\n\u001B[0;32m--> 146\u001B[0m \u001B[38;5;28;01mwith\u001B[39;00m \u001B[38;5;28mopen\u001B[39m(\u001B[38;5;124m'\u001B[39m\u001B[38;5;124minput.txt\u001B[39m\u001B[38;5;124m'\u001B[39m) \u001B[38;5;28;01mas\u001B[39;00m f:\n\u001B[1;32m    147\u001B[0m     text \u001B[38;5;241m=\u001B[39m f\u001B[38;5;241m.\u001B[39mread()\n\u001B[1;32m    148\u001B[0m enc \u001B[38;5;241m=\u001B[39m tiktoken\u001B[38;5;241m.\u001B[39mget_encoding(\u001B[38;5;124m'\u001B[39m\u001B[38;5;124mgpt2\u001B[39m\u001B[38;5;124m'\u001B[39m)\n",
      "\u001B[0;31mFileNotFoundError\u001B[0m: [Errno 2] No such file or directory: 'input.txt'"
     ]
    }
   ],
   "execution_count": 1
  },
  {
   "metadata": {
    "ExecuteTime": {
     "end_time": "2024-12-02T01:13:06.568899Z",
     "start_time": "2024-12-02T01:13:06.550952Z"
    }
   },
   "cell_type": "code",
   "source": [
    "price_df = pd.read_csv('price_data.csv', index_col=0)\n",
    "vol_df = pd.read_csv('vold_data.csv', index_col=0)\n",
    "\n",
    "n_stocks = len(price_df.columns)\n",
    "dates = pd.to_datetime(price_df.index).strftime(\"%Y%m%d\").astype(int)\n",
    "n_dates = len(dates)"
   ],
   "id": "fe5684bd8d919e94",
   "outputs": [
    {
     "ename": "NameError",
     "evalue": "name 'pd' is not defined",
     "output_type": "error",
     "traceback": [
      "\u001B[0;31m---------------------------------------------------------------------------\u001B[0m",
      "\u001B[0;31mNameError\u001B[0m                                 Traceback (most recent call last)",
      "Cell \u001B[0;32mIn[2], line 1\u001B[0m\n\u001B[0;32m----> 1\u001B[0m price_df \u001B[38;5;241m=\u001B[39m pd\u001B[38;5;241m.\u001B[39mread_csv(\u001B[38;5;124m'\u001B[39m\u001B[38;5;124mprice_data.csv\u001B[39m\u001B[38;5;124m'\u001B[39m, index_col\u001B[38;5;241m=\u001B[39m\u001B[38;5;241m0\u001B[39m)\n\u001B[1;32m      2\u001B[0m vol_df \u001B[38;5;241m=\u001B[39m pd\u001B[38;5;241m.\u001B[39mread_csv(\u001B[38;5;124m'\u001B[39m\u001B[38;5;124mvold_data.csv\u001B[39m\u001B[38;5;124m'\u001B[39m, index_col\u001B[38;5;241m=\u001B[39m\u001B[38;5;241m0\u001B[39m)\n\u001B[1;32m      4\u001B[0m n_stocks \u001B[38;5;241m=\u001B[39m \u001B[38;5;28mlen\u001B[39m(price_df\u001B[38;5;241m.\u001B[39mcolumns)\n",
      "\u001B[0;31mNameError\u001B[0m: name 'pd' is not defined"
     ]
    }
   ],
   "execution_count": 2
  },
  {
   "metadata": {},
   "cell_type": "code",
   "outputs": [],
   "execution_count": null,
   "source": [
    "X = torch.tensor(\n",
    "    np.concatenate(\n",
    "        [price_df.values.reshape(-1, n_stocks, 1), vol_df.values.reshape(-1, n_stocks, 1)],\n",
    "        axis=-1\n",
    "    )\n",
    ")  # [n_dates, n_stocks, n_features (=2)]\n",
    "\n",
    "y = torch.tensor(price_df.values)  # [n_dates, n_stocks]\n",
    "\n",
    "window_length = 96\n",
    "predict_length = 24  # Todo: use this variable to predict more than one\n",
    "\n",
    "for i in range(window_length, n_dates):\n",
    "    pass\n"
   ],
   "id": "6804328b25cabd62"
  }
 ],
 "metadata": {
  "kernelspec": {
   "display_name": "Python 3",
   "language": "python",
   "name": "python3"
  },
  "language_info": {
   "codemirror_mode": {
    "name": "ipython",
    "version": 2
   },
   "file_extension": ".py",
   "mimetype": "text/x-python",
   "name": "python",
   "nbconvert_exporter": "python",
   "pygments_lexer": "ipython2",
   "version": "2.7.6"
  }
 },
 "nbformat": 4,
 "nbformat_minor": 5
}
